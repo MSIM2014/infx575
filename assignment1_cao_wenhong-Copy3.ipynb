{
 "cells": [
  {
   "cell_type": "code",
   "execution_count": 263,
   "metadata": {
    "collapsed": true
   },
   "outputs": [],
   "source": [
    "# Function to replace characters in coures prerequisite based on pattern\n",
    "def parse_prerequisite(rep, text):\n",
    "    # Replacement\n",
    "    rep = dict((re.escape(k), v) for k, v in rep.iteritems())\n",
    "    pattern = re.compile(\"|\".join(rep.keys()))\n",
    "    text = pattern.sub(lambda m: rep[re.escape(m.group(0))], text)\n",
    "    return text"
   ]
  },
  {
   "cell_type": "code",
   "execution_count": 356,
   "metadata": {
    "collapsed": false
   },
   "outputs": [],
   "source": [
    "# Function to split prerequisite and corequisite from coures prerequisites section\n",
    "def split_prerequisite(text):\n",
    "    # Has prerequisite(s)\n",
    "    if len(text) > 1: \n",
    "        text_2 = text[1].split('.')\n",
    "        \n",
    "        # Switch course number to unicode\n",
    "        uniString = text_2[0].encode('utf-8') \n",
    "        \n",
    "        # Replace non-breaking space with space\n",
    "        prerequisite_uniString = uniString.replace(\"\\xc2\\xa0\", \"\") \n",
    "        \n",
    "        # define desired first level replacements\n",
    "        rep = {\" or X\": \";\",\n",
    "               \", \": \"; \", \n",
    "               \" and \": \"; \",\n",
    "               \" / \": \"; \"} \n",
    "        \n",
    "        parsed = parse_prerequisite(rep, prerequisite_uniString)\n",
    "        \n",
    "        # define desired second level replacements\n",
    "        rep = {\" or \": \"; \"}\n",
    "        parsed = parse_prerequisite(rep, parsed)\n",
    "        \n",
    "        # define desired third level replacements\n",
    "        rep = {\";;\": \";\"}\n",
    "        parsed = parse_prerequisite(rep, parsed)\n",
    "        \n",
    "        # Skip if string \"units\" in the prerequisite or corequisite\n",
    "        if re.search('units', parsed) is None:   \n",
    "            regex = re.compile('[A-Z]*\\s?\\d{1,}\\w?')\n",
    "        \n",
    "            # Change prerequisite course list to ';' delimited string\n",
    "            parsed_delimited = ';'.join(map(str, regex.findall(parsed.strip())))\n",
    "        else:\n",
    "            parsed_delimited = \"\"\n",
    "        \n",
    "        return parsed_delimited "
   ]
  },
  {
   "cell_type": "code",
   "execution_count": 122,
   "metadata": {
    "collapsed": false
   },
   "outputs": [
    {
     "name": "stdout",
     "output_type": "stream",
     "text": [
      "  MUSIC 256A; CS 476A\n",
      "  MUSIC 256A; CS 476A\n",
      "MUSIC 256A; CS 476A\n",
      "test\n"
     ]
    }
   ],
   "source": [
    "# define desired replacements\n",
    "rep = {\" or X\": \";\",\n",
    "       \", \": \"; \", \n",
    "       \" and \": \"; \",\n",
    "      \" / \": \"; \"} \n",
    "\n",
    "prerequisite_uniString = '  MUSIC 256A / CS 476A'\n",
    "parsed = parse_prerequisite(rep, prerequisite_uniString)\n",
    "print parsed\n",
    "        \n",
    "# define desired replacements\n",
    "rep = {\" or \": \"; \"}\n",
    "parsed = parse_prerequisite(rep, parsed)\n",
    "\n",
    "print parsed\n",
    "\n",
    "# define desired replacements\n",
    "rep = {\";;\": \";\"}\n",
    "parsed = parse_prerequisite(rep, parsed).strip()\n",
    "\n",
    "print parsed\n",
    "print \"test\""
   ]
  },
  {
   "cell_type": "code",
   "execution_count": 357,
   "metadata": {
    "collapsed": false
   },
   "outputs": [
    {
     "name": "stdout",
     "output_type": "stream",
     "text": [
      "prerequisite:  [None, None, None, 'CS106B', None, None, None, None, 'CS107', None, None, None, None, None, None, '106B', None, '106A', None, 'CS106A', '106A', '', '', None, '106A', '106B; 106X', ' 106A', '106B', '106B', '107', '103; 106B;MATH51;CME100', 'CS109', '107', 'CS 106', 'CS103;CS107;CS109', '', 'CS110', 'CS107;CS108', '103; 103B; 107', 'CS110', '103; 107', '106B', 'CS107;MATH51', 'CS103; 103B', '110', '103; 103B', '103; 103B; 109;STATS116', 'CS107;CS161', 'CS161', 'CS107;CS161', None, 'CS107', '106B', None, None, '', 'CS140', '', '', None, '106B; 106B', ' 106A', ' 106B', 'CS193P', 'CS110;CS161', 'CS147', None, '1C', None, 'CS198', None, None, None, '', '106B;MATH51', '205A', 'CS109; 110', 'CS210A', None, 'CS107', 'CS103;CS 103B;CS106B;CS106X;CS107;CS109', None, '', 'CS124;CS121;221', 'CS124; 221; 224N; 229', 'LINGUIST180;CS124;CS224N;CS224S;CS221;LINGUIST130A;CS157;PHIL150', None, '223A', ' 106B; 106X; 205', '', '', '', 'STATS315A;CS229', '', 'CS2223B', 'CS131;CS229;MATH21', None, ' 161;CM103', '', 'AA228;CS238;CS221', '140', 'CS106B; 106X', 'CS107', '107', '103; 103B; 107', '144', 'CS144;CS249A', '244B', '145; 161', 'CS107;CS145;CS109;STAT116', 'CS107', '147; 106B', '247', 'CS148', ' 106B; 107;107', None, 'CS110', '', '', '161', '161', 'CS261', 'CS161;STAT 116', '161', None, 'BIOMEDIN210; 211; 214; 217', None, '', 'CS106A', None, '253', 'CS107;CS109;CS161', '', '106A', ' 220', None, 'CS103; 107', None, '108', None, None, None, 'EE282', '', 'EE180; 108B', None, None, '223A', '205; 223B', None, '', None, 'EE263', None, None, 'CS144; 244', None, '', '145; 245', None, '', '248', None, None, 'CS254', '256', '154; 157; 258', None, '154N; 161', 'CS154;CS161', None, '', '', 'CS106A', None, '161; 262; 274;BIOCHEM 218', 'CS147;CS247', None, None, None, 'CS147; 193A;193P', 'CS147;CS247', None, None, None, None, None, None, None, None, None, '', '', None, None, None, None, None, None, None, ' 147; 148', None, None, 'MATH41;MATH42;CS103;CS205A', '', '', 'MUSIC256A;CS476A', '', '', None, None, None, None, None, None, None, '', None, None, None, '', None, '', None, '', None, 'PHYSICS43', None, 'ENGR40;EE122A;CS106B', 'CS106A', None, None, None, None, 'ENGR40;ENGR40M', 'EE101A;EE102A', 'MATH53;CME102', 'EE102A', 'MATH51;CME100', 'EE102A;ENGR40M', None, '108B;CS106B', '101B', None, 'ENGR40;CS 106', '', 'EE122A;EE122A', 'EE101A;EE102A', 'EE101B', 'EE42;EE102A', 'EE42;EE65', None, None, 'EE101B', None, '', 'EE102A;EE102B', '', '102A', 'CS107;EE108', None, None, None, None, None, ' 101B', None, '', None, None, 'EE101B;EE108', '101B', 'EE114;214A', '116', 'MATH52; 53;PHYSICS65;PHYSICS43; 45', '222', None, '', None, 'EE101B', 'EE242', 'EE142', None, 'EE236A;EE242', 'EE236B', None, 'EE142;PHYSICS120', 'EE216', 'EE102A;EE142', 'EE251;EE 314', 'EE142;PHYSICS120', 'EE101B', 'EE153;253', None, '242', None, ' 102A', 'EE261', 'MATH104;EE102B', 'EE102A;EE102B', 'EE263;EE178', None, '101A; 108A; 108B', None, 'EE101A;EE108A', 'EE178;EE102A;EE261', '179; 261; 178; 278', 'EE108B', None, ' 290B;EE290A; 290C;EE290B; 290D;EE290C', ' 290B;EE290A; 290C;EE290B; 290D;EE290C', ' 290B;EE290A; 290C;EE290B; 290D;EE290C', ' 290B;EE290A; 290C;EE290B; 290D;EE290C', None, None, None, None, None, '', '', 'EE108B;EE282', 'EE214A', None, None, None, None, None, 'EE252', 'EE102A;EE108;EE114', 'EE251;EE314A', None, None, 'EE212;EE216', 'EE214B', 'EE314A', 'EE214B', '212; 216', '216; 316', 'EE222;EE216;EE316', None, 'EE216', '216', 'PHYSICS70;MATSCI199;209', None, '236C', 'EE242', ' 242', '', '242; 236C', '247', 'EE242', 'EE261', 'EE153;EE253', 'EE153;EE253', '279', 'EE359', 'EE263', '364A', None, None, 'EE261', 'EE261', '369B', 'EE213;EE271', None, 'EE178;STATS116', 'EE376A', 'EE278;EE376A;EE376B', 'EE376A', 'EE376A;STATS300A', 'EE278', 'EE278;EE263', 'EE102B;EE278', None, '282', 'EE284;CS144', '284;CS144', 'EE284;CS 244A', 'EE284', '', 'EE284;CS 244A', '', 'EE108;EE180;EE282', '', '376A', None, None, 'EE379', None, None, 'EE102B;EE108A;EE264;EE271', None, None, None, None, '271; 371', None, None, 'EE261;EE278', None, None, None, 'EE212;EE216', 'ENGR341;EE410', 'EE314A;EE251;EE251', 'EE364A', '369B', None, None]\n",
      "length of prerequisite:  409\n",
      "length of prerequisite:  409\n",
      "Add all data to a dataframe\n",
      "Output data to file\n"
     ]
    }
   ],
   "source": [
    "from bs4 import BeautifulSoup; #import beautiful soup scraper\n",
    "import urllib2 #url library\n",
    "import pandas as pd; #dataframe for final output\n",
    "import re #regular expression package\n",
    "from datetime import date\n",
    "\n",
    "#%%\n",
    "#url= 'http://www.pugetsound.edu/academics/faculty-scholarship/faculty-list/all/' #set url\n",
    "\n",
    "# Set url\n",
    "url_1 = 'http://exploredegrees.stanford.edu/schoolofengineering/computerscience/#courseinventory'\n",
    "url_2 = 'http://exploredegrees.stanford.edu/schoolofengineering/electricalengineering/#courseinventory'\n",
    "\n",
    "page_1 = urllib2.urlopen(url_1) #open the url\n",
    "soup_1 = BeautifulSoup(page_1.read(), \"lxml\") #read in beautiful soup\n",
    "\n",
    "page_2 = urllib2.urlopen(url_2) #open the url\n",
    "soup_2 = BeautifulSoup(page_2.read(), \"lxml\") #read in beautiful soup\n",
    "\n",
    "course_block_title_1 = [s.get_text() for s in soup_1.find_all(\"p\", {\"class\":\"courseblocktitle\"}, \"strong\")] # Get course black title\n",
    "course_number_title_1 = course_block_title_1\n",
    "\n",
    "course_block_title_2 = [s.get_text() for s in soup_2.find_all(\"p\", {\"class\":\"courseblocktitle\"}, \"strong\")] # Get course black title\n",
    "course_number_title_2 = course_block_title_2\n",
    "\n",
    "course_block_desc_1 = [s.get_text() for s in soup_1.find_all(\"p\", {\"class\":\"courseblockdesc\"})] # Get course requsites\n",
    "course_block_desc_2 = [s.get_text() for s in soup_2.find_all(\"p\", {\"class\":\"courseblockdesc\"})] # Get course requsites\n",
    "\n",
    "# Create empty lists for each course attribute\n",
    "courseNumber = [] \n",
    "courseTitle = []\n",
    "prerequisite = []\n",
    "dateScrape = []\n",
    "regex = []\n",
    "    \n",
    "# Append course number and couse title from courses in Computer Science Department\n",
    "for each in course_number_title_1:\n",
    "    course = each.split('.') # Split at period\n",
    "    \n",
    "    # Switch course number to unicode\n",
    "    uniString = course[0].encode('utf-8') \n",
    "    \n",
    "    # Replace non-breaking space with space\n",
    "    course_uniString = uniString.replace(\"\\xc2\\xa0\", \"\") \n",
    "    \n",
    "    # Append to the course number list\n",
    "    courseNumber.append(course_uniString.strip()) \n",
    "    \n",
    "    # Switch course title to unicode and append to course title list\n",
    "    courseTitle.append(course[1].encode('utf-8').strip()) \n",
    "\n",
    "# Append course number and couse title from courses in Electrical Engineering Department\n",
    "for each in course_number_title_2:\n",
    "    course = each.split('.') # Split at period\n",
    "    \n",
    "    # Switch course number to unicode\n",
    "    uniString = course[0].encode('utf-8') \n",
    "    \n",
    "    # Replace non-breaking space with space\n",
    "    course_uniString = uniString.replace(\"\\xc2\\xa0\", \"\") \n",
    "    \n",
    "    # Append to the course number list\n",
    "    courseNumber.append(course_uniString.strip()) \n",
    "    \n",
    "    # Switch course title to unicode and append to course title list\n",
    "    courseTitle.append(course[1].encode('utf-8').strip()) \n",
    "\n",
    "# Append course description from courses in Computer Science Department\n",
    "for each in course_block_desc_1:\n",
    "    # Parse prerequisite using delimiter ':'\n",
    "    split_1 = re.split(r'Prerequisite[s]?[:]\\s*', each)\n",
    "    \n",
    "    # Parse corequisite using delimiter ':'\n",
    "    coreq_split_1 = re.split(r'Corequisite[s]?[:]\\s*', each)\n",
    "    \n",
    "    # Append the prerequisite and corequisite course list to the course\n",
    "    if (split_prerequisite(split_1) is not None) and \\\n",
    "        (split_prerequisite(coreq_split_1) is not None):\n",
    "        prerequisite.append(split_prerequisite(split_1) + \\\n",
    "                            split_prerequisite(coreq_split_1)) \n",
    "        \n",
    "    elif (split_prerequisite(split_1) is not None) and \\\n",
    "          (split_prerequisite(coreq_split_1) is None):\n",
    "        prerequisite.append(split_prerequisite(split_1)) \n",
    "          \n",
    "    elif (split_prerequisite(split_1) is None) and \\\n",
    "          (split_prerequisite(coreq_split_1) is not None):\n",
    "        prerequisite.append(split_prerequisite(coreq_split_1))\n",
    "          \n",
    "    else:\n",
    "        prerequisite.append(split_prerequisite(coreq_split_1)) # Can also use split_1\n",
    "\n",
    "# Append course number and couse title from courses in Electrical Engineering Department\n",
    "for each in course_block_desc_2:\n",
    "    # Parse prerequisite using delimiter ':'\n",
    "    split_1 = re.split(r'Prerequisite[s]?[:]\\s*', each)\n",
    "    \n",
    "    # Parse corequisite using delimiter ':'\n",
    "    coreq_split_1 = re.split(r'Corequisite[s]?[:]\\s*', each)\n",
    "    \n",
    "    # Append the prerequisite and corequisite course list to the course\n",
    "    if (split_prerequisite(split_1) is not None) and \\\n",
    "        (split_prerequisite(coreq_split_1) is not None):\n",
    "        prerequisite.append(split_prerequisite(split_1) + \\\n",
    "                            split_prerequisite(coreq_split_1)) \n",
    "        \n",
    "    elif (split_prerequisite(split_1) is not None) and \\\n",
    "          (split_prerequisite(coreq_split_1) is None):\n",
    "        prerequisite.append(split_prerequisite(split_1)) \n",
    "          \n",
    "    elif (split_prerequisite(split_1) is None) and \\\n",
    "          (split_prerequisite(coreq_split_1) is not None):\n",
    "        prerequisite.append(split_prerequisite(coreq_split_1))\n",
    "          \n",
    "    else:\n",
    "        prerequisite.append(split_prerequisite(coreq_split_1)) # Can also use split_1\n",
    "\n",
    "    \n",
    "#     # Parse prerequisite using delimiter ':'\n",
    "#     split_1 = re.split(r'Prerequisite[s]?[:]\\s*', each)\n",
    "    \n",
    "#     # Append the prerequisite course list to the course\n",
    "#     prerequisite.append(split_prerequisite(split_1))\n",
    "    \n",
    "#     # Parse corequisite using delimiter ':'\n",
    "#     coreq_split_1 = re.split(r'Corequisite[s]?[:]\\s*', each)\n",
    "    \n",
    "#     # Append the corequisite course list to the course\n",
    "#     prerequisite.append(split_prerequisite(coreq_split_1))\n",
    "      \n",
    "# Create a list of date for the date of scrape\n",
    "dateScrape = [date.today().strftime('%m/%d/%Y')] * len(courseNumber)\n",
    "\n",
    "# Set department\n",
    "department_1 = ['Computer Science'] * len(course_number_title_1)\n",
    "department_2 = ['Electrical Engineering'] * len(course_number_title_2)\n",
    "\n",
    "# Set university\n",
    "university = \"Stanford\"\n",
    "\n",
    "print \"prerequisite: \", prerequisite\n",
    "print \"length of prerequisite: \", len(prerequisite)\n",
    "print \"length of prerequisite: \", len(dateScrape)\n",
    "\n",
    "print \"Add all data to a dataframe\"\n",
    "output = pd.DataFrame(dateScrape) #create a dataframe for outputs\n",
    "output.columns = ['Date of Scraping']\n",
    "output['University'] = university\n",
    "output['Department'] = department_1 + department_2\n",
    "output['Course Number'] = courseNumber\n",
    "output['Course Title'] = courseTitle\n",
    "output['Prerequisite'] = prerequisite\n",
    "\n",
    "# Output data to a csv file\n",
    "print \"Output data to file\"\n",
    "output.to_csv('wcao-INFX575-PS1_dataset.csv', index=False) # Skip index column"
   ]
  },
  {
   "cell_type": "code",
   "execution_count": null,
   "metadata": {
    "collapsed": true
   },
   "outputs": [],
   "source": [
    "(?!units)[A-Z]*\\s?\\d{1,}\\w?\\b(?=\\)| \\(|;|$)"
   ]
  },
  {
   "cell_type": "code",
   "execution_count": 302,
   "metadata": {
    "collapsed": false
   },
   "outputs": [
    {
     "data": {
      "text/plain": [
       "[' 135 units.']"
      ]
     },
     "execution_count": 302,
     "metadata": {},
     "output_type": "execute_result"
    }
   ],
   "source": [
    "a = re.compile(\"(?!units)[A-Z]*\\s?\\d{1,}\\w?\\b(?=\\)| \\(|;|$)\", flags=re.IGNORECASE)\n",
    "text = \"Extracting meaning, information, and structure from human language text, \\\n",
    "speech, web pages, genome sequences, social networks. Methods include: string \\\n",
    "algorithms, edit distance, language modeling, the noisy channel, naive Bayes, \\\n",
    "inverted indices, collaborative filtering, PageRank. Applications such as question\\\n",
    "answering, sentiment analysis, information retrieval, text classification, social\\\n",
    "network models, machine translation, genomic sequence alignment, spell checking,\\\n",
    "speech processing, recommender systems. Prerequisite: 135 units.\"\n",
    "split_1 = text.split('Prerequisite:')\n",
    "a.split(split_1[1])"
   ]
  },
  {
   "cell_type": "code",
   "execution_count": 355,
   "metadata": {
    "collapsed": false
   },
   "outputs": [
    {
     "data": {
      "text/plain": [
       "['CS 106']"
      ]
     },
     "execution_count": 355,
     "metadata": {},
     "output_type": "execute_result"
    }
   ],
   "source": [
    "# p = re.compile('\\d+')\n",
    "# p.findall('12 drummers drumming, 11 pipers piping, 10 lords a-leaping')\n",
    "text = \"Basic knowledge of computer programming (as covered in CS 106)\"\n",
    "\n",
    "regex = re.compile('[A-Z]*\\s?\\d{1,}\\s?\\w?')\n",
    "regex.findall(text)"
   ]
  },
  {
   "cell_type": "code",
   "execution_count": 202,
   "metadata": {
    "collapsed": false
   },
   "outputs": [
    {
     "data": {
      "text/plain": [
       "'CS103;CS107;CS109'"
      ]
     },
     "execution_count": 202,
     "metadata": {},
     "output_type": "execute_result"
    }
   ],
   "source": [
    "myList = ['CS103', 'CS107', 'CS109']\n",
    "myList = ';'.join(map(str, myList)) \n",
    "myList"
   ]
  },
  {
   "cell_type": "code",
   "execution_count": 274,
   "metadata": {
    "collapsed": false
   },
   "outputs": [
    {
     "name": "stdout",
     "output_type": "stream",
     "text": [
      "Prerequisite: consent of instructor. \n",
      "106B or 106X.\n"
     ]
    }
   ],
   "source": [
    "a=\"Prerequisit: consent of instructor. Corequisite: 106B or 106X.\"\n",
    "b1 = re.split(r'Corequisite[s]?[:]\\s*', a)\n",
    "b2 = re.split(r'Prerequisite[s]?[:]\\s*', a)\n",
    "print b[0]\n",
    "print b[1]\n",
    "\n",
    "if split_prerequisite(b2) is not None:\n",
    "    split_prerequisite(b1)+split_prerequisite(b2)"
   ]
  },
  {
   "cell_type": "code",
   "execution_count": null,
   "metadata": {
    "collapsed": true
   },
   "outputs": [],
   "source": []
  }
 ],
 "metadata": {
  "kernelspec": {
   "display_name": "Python 2",
   "language": "python",
   "name": "python2"
  },
  "language_info": {
   "codemirror_mode": {
    "name": "ipython",
    "version": 2
   },
   "file_extension": ".py",
   "mimetype": "text/x-python",
   "name": "python",
   "nbconvert_exporter": "python",
   "pygments_lexer": "ipython2",
   "version": "2.7.11"
  }
 },
 "nbformat": 4,
 "nbformat_minor": 0
}
