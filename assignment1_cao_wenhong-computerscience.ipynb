{
 "cells": [
  {
   "cell_type": "code",
   "execution_count": null,
   "metadata": {
    "collapsed": true
   },
   "outputs": [],
   "source": []
  },
  {
   "cell_type": "code",
   "execution_count": 72,
   "metadata": {
    "collapsed": false
   },
   "outputs": [
    {
     "name": "stdout",
     "output_type": "stream",
     "text": [
      "Add all data to a dataframe\n",
      "Output data to file\n"
     ]
    }
   ],
   "source": [
    "from bs4 import BeautifulSoup; #import beautiful soup scraper\n",
    "import urllib2 #url library\n",
    "import pandas as pd; #dataframe for final output\n",
    "import re #regular expression package\n",
    "from datetime import date\n",
    "\n",
    "#%%\n",
    "#url= 'http://www.pugetsound.edu/academics/faculty-scholarship/faculty-list/all/' #set url\n",
    "\n",
    "# Set url\n",
    "url = 'http://exploredegrees.stanford.edu/schoolofengineering/computerscience/#courseinventory'\n",
    "url_2 = 'http://exploredegrees.stanford.edu/schoolofengineering/electricalengineering/#courseinventory'\n",
    "# Set department\n",
    "department = \"Computer Science\"\n",
    "\n",
    "# Set university\n",
    "university = \"Stanford\"\n",
    "\n",
    "# Stanford\n",
    "# http://exploredegrees.stanford.edu/schoolofengineering/computerscience/#courseinventory\n",
    "\n",
    "\n",
    "# Brown University - Below have similar html structure\n",
    "# https://www.brown.edu/academics/economics/courses\n",
    "# https://www.brown.edu/academics/english/courses\n",
    "# https://www.brown.edu/academics/music/courses\n",
    "# https://www.brown.edu/academics/chemistry/courses\n",
    "# https://www.brown.edu/academics/sociology/courses\n",
    "# https://www.brown.edu/academics/portuguese-brazilian-studies/courses\n",
    "# https://www.brown.edu/academics/judaic-studies/courses\n",
    "# https://www.brown.edu/academics/italian-studies/courses\n",
    "# https://www.brown.edu/academics/hispanic-studies/courses\n",
    "# https://www.brown.edu/academics/east-asian-studies/courses\n",
    "    \n",
    "\n",
    "# a new html structure\n",
    "# https://www.brown.edu/academics/public-health/health-services-policy-practice/courses\n",
    "\n",
    "# a new html structure\n",
    "# https://www.brown.edu/academics/public-health/biostatistics/courses\n",
    "\n",
    "# a new html structure\n",
    "# https://www.brown.edu/academics/neuroscience/index.php?q=full-list-courses\n",
    "\n",
    "page = urllib2.urlopen(url) #open the url\n",
    "soup = BeautifulSoup(page.read(), \"lxml\") #read in beautiful soup\n",
    "\n",
    "#%%\n",
    "# names = [s.get_text() for s in soup.find_all('h3')] #get faculty name list\n",
    "# depts = [(s.get_text()).strip() for s in soup.find_all(\"td\", { \"class\":\"dept\" })] #get department list\n",
    "# education = [s.get_text() for s in soup.find_all('ul')] #get degree list\n",
    "# education = education[:-1] #list has erroneous value\n",
    "# degrees = [(s.get_text()).split(',')[0].strip() for s in soup.find_all('li')] #get a list of every degree earned for all faculty\n",
    "# degrees = degrees[:617] #remove erroneous elements\n",
    "# degrees = list(set(degrees)) #take only unique values\n",
    "# degrees = degrees[1:] #keep as a list of degree names\n",
    "\n",
    "# courseblocktitle example\n",
    "\n",
    "# <p class=\"courseblocktitle\">\\\n",
    "# <strong>CS&nbsp;103.  Mathematical Foundations of Computing.  3-5 Units.</strong>\\\n",
    "# </p>\n",
    "\n",
    "\n",
    "course_block_title = [s.get_text() for s in soup.find_all(\"p\", {\"class\":\"courseblocktitle\"}, \"strong\")] # Get course black title\n",
    "course_number_title = course_block_title\n",
    "#course_number_title = [s.get_text() for s in course_block_title.find_all_next(\"strong\")] # Get course number and name\n",
    "\n",
    "#print \"course_number_title:\", course_number_title\n",
    "\n",
    "# courseblockdesc example\n",
    "\n",
    "# Learn web technologies by working on real world projects focused on creating \\\n",
    "# positive social impact. The class will cover basic topics related to web development \\\n",
    "# and provide resources for more advanced learning. Students will work on small teams to\\\n",
    "# implement high-impact projects for partner organizations. The aim of the class is to \\\n",
    "# empower students to leverage technology for social good by inspiring action, facilitating\\\n",
    "# collaboration, and forging pathways toward change. No web application experience required.\\\n",
    "# Prerequisite: 106B. Application required; apply online at http://bit.ly/90siApp. \\\n",
    "#         Applications accepted until midnight on September 14th.\n",
    "\n",
    "        \n",
    "course_block_desc = [s.get_text() for s in soup.find_all(\"p\", {\"class\":\"courseblockdesc\"})] # Get course requsites\n",
    "\n",
    "#print \n",
    "\n",
    "#print \"course_block_desc:\", course_block_desc\n",
    "\n",
    "#%%\n",
    "# fname = [] #empty lists\n",
    "# lname = []\n",
    "# title = []\n",
    "# department = []\n",
    "# degreeList = []\n",
    "# gradYr = []\n",
    "# schoolNum = []\n",
    "\n",
    "courseNumber = [] # empty lists\n",
    "courseTitle = []\n",
    "prerequisite = []\n",
    "dateScrape = []\n",
    "\n",
    "for each in course_number_title:\n",
    "    course = each.split('.') # Split at period\n",
    "    \n",
    "    # Switch course number to unicode\n",
    "    uniString = course[0].encode('utf-8') \n",
    "    \n",
    "    # Replace non-breaking space with space\n",
    "    course_uniString = uniString.replace(\"\\xc2\\xa0\", \" \") \n",
    "    \n",
    "    # Append to the course number list\n",
    "    courseNumber.append(course_uniString) \n",
    "    \n",
    "    # Switch course title to unicode and append to course title list\n",
    "    courseTitle.append(course[1].encode('utf-8')) \n",
    "\n",
    "for each in course_block_desc:\n",
    "    split_1 = each.split('Prerequisite:')\n",
    "    #print \"\\nsplit_1: \", split_1\n",
    "    \n",
    "    # If there are prerequisite(s)\n",
    "    if len(split_1) < 2:\n",
    "       prerequisite.append(\"\") \n",
    "    else:\n",
    "        split_2 = split_1[1].split('.')\n",
    "        \n",
    "        # Switch course number to unicode\n",
    "        uniString2 = split_2[0].encode('utf-8') \n",
    "        \n",
    "        # Replace non-breaking space with space\n",
    "        prerequisite_uniString = uniString2.replace(\"\\xc2\\xa0\", \" \") \n",
    "    \n",
    "        prerequisite.append(prerequisite_uniString) # course prerequisite\n",
    "\n",
    "# Create a list of date for the date of scrape\n",
    "dateScrape = [date.today().strftime('%m/%d/%Y')] * len(courseNumber)\n",
    "\n",
    "# Add all data to a dataframe\n",
    "\n",
    "# Set department\n",
    "department = \"Computer Science\"\n",
    "\n",
    "# Set university\n",
    "university = \"Stanford\"\n",
    "\n",
    "print \"Add all data to a dataframe\"\n",
    "output = pd.DataFrame(dateScrape) #create a dataframe for outputs\n",
    "output.columns = ['Date of Scraping']\n",
    "output['University'] = university\n",
    "output['Department'] = department\n",
    "output['Course Number'] = courseNumber\n",
    "output['Course Title'] = courseTitle\n",
    "output['Prerequisite'] = prerequisite\n",
    "\n",
    "# Output data to file\n",
    "print \"Output data to file\"\n",
    "output.to_csv('wcao-INFX575-PS1_dataset.csv', index=False)"
   ]
  },
  {
   "cell_type": "code",
   "execution_count": 4,
   "metadata": {
    "collapsed": true
   },
   "outputs": [],
   "source": [
    "# Load data to database\n",
    "\n",
    "import MySQLdb\n",
    "\n",
    "cnx= {'host': 'infx575.cwzx7m7f7prj.us-west-2.rds.amazonaws.com',\n",
    "  'username': 'wcao',\n",
    "  'password': 'welcome123',\n",
    "  'db': 'assignments'}\n",
    "\n",
    "db = MySQLdb.connect(cnx['host'],cnx['username'],cnx['password'], cnx['db'])\n",
    "\n",
    "file = \"/home/ubuntu/assignments/assign1/wcao-INFX575-PS1_dataset.csv\""
   ]
  },
  {
   "cell_type": "code",
   "execution_count": 28,
   "metadata": {
    "collapsed": false
   },
   "outputs": [
    {
     "name": "stdout",
     "output_type": "stream",
     "text": [
      " CS110\n"
     ]
    }
   ],
   "source": [
    "b = a.split('Prerequisite:')\n",
    "pre = b[1].split('.')\n",
    "print pre[0]\n",
    "#print pre[1]\n",
    "#print pre[2]"
   ]
  },
  {
   "cell_type": "code",
   "execution_count": 35,
   "metadata": {
    "collapsed": false
   },
   "outputs": [
    {
     "name": "stdout",
     "output_type": "stream",
     "text": [
      "2016-04-07\n"
     ]
    }
   ],
   "source": [
    "from datetime import date\n",
    "\n",
    "today = date.today()\n",
    "print today"
   ]
  },
  {
   "cell_type": "code",
   "execution_count": 48,
   "metadata": {
    "collapsed": false
   },
   "outputs": [
    {
     "name": "stdout",
     "output_type": "stream",
     "text": [
      "['04/07/2016', '04/07/2016', '04/07/2016', '04/07/2016', '04/07/2016']\n",
      "['04/07/2016', '04/07/2016', '04/07/2016']\n"
     ]
    },
    {
     "data": {
      "text/plain": [
       "datetime.date(2016, 4, 7)"
      ]
     },
     "execution_count": 48,
     "metadata": {},
     "output_type": "execute_result"
    }
   ],
   "source": [
    "# today = today.strftime('%m/%d/%Y')\n",
    "chema = [today] * 3\n",
    "print [date.today().strftime('%m/%d/%Y')] * 5\n",
    "print chema\n",
    "a=date.today()\n",
    "a"
   ]
  },
  {
   "cell_type": "code",
   "execution_count": 60,
   "metadata": {
    "collapsed": false
   },
   "outputs": [
    {
     "data": {
      "text/plain": [
       "u'<html>\\n <body>\\n  <div>\\n   ab\\n  </div>\\n </body>\\n</html>'"
      ]
     },
     "execution_count": 60,
     "metadata": {},
     "output_type": "execute_result"
    }
   ],
   "source": [
    "soup2 = BeautifulSoup('<div>a&nbsp;b</div>')\n",
    "soup2.prettify(formatter=lambda s: s.replace(u'\\xa0', ''))"
   ]
  },
  {
   "cell_type": "code",
   "execution_count": null,
   "metadata": {
    "collapsed": true
   },
   "outputs": [],
   "source": []
  }
 ],
 "metadata": {
  "kernelspec": {
   "display_name": "Python 2",
   "language": "python",
   "name": "python2"
  },
  "language_info": {
   "codemirror_mode": {
    "name": "ipython",
    "version": 2
   },
   "file_extension": ".py",
   "mimetype": "text/x-python",
   "name": "python",
   "nbconvert_exporter": "python",
   "pygments_lexer": "ipython2",
   "version": "2.7.11"
  }
 },
 "nbformat": 4,
 "nbformat_minor": 0
}
